{
 "cells": [
  {
   "cell_type": "markdown",
   "id": "c5b03b85",
   "metadata": {},
   "source": [
    "# Let's use a Data Loader now"
   ]
  },
  {
   "cell_type": "code",
   "execution_count": 1,
   "id": "9d15463e",
   "metadata": {},
   "outputs": [
    {
     "name": "stdout",
     "output_type": "stream",
     "text": [
      "Files already downloaded and verified\n",
      "Files already downloaded and verified\n"
     ]
    }
   ],
   "source": [
    "from torchvision import datasets\n",
    "data_path = '../data-unversioned/p1ch7/'\n",
    "cifar10 = datasets.CIFAR10(data_path, train=True, download=True)\n",
    "cifar10_val = datasets.CIFAR10(data_path, train=False, download=True)"
   ]
  },
  {
   "cell_type": "code",
   "execution_count": 2,
   "id": "237a102b",
   "metadata": {},
   "outputs": [],
   "source": [
    "from torchvision import transforms\n",
    "tensor_cifar10 = datasets.CIFAR10(data_path, train=True, download=False, transform=transforms.ToTensor())"
   ]
  },
  {
   "cell_type": "code",
   "execution_count": null,
   "id": "96bd1ab8",
   "metadata": {},
   "outputs": [],
   "source": [
    "import torch\n",
    "imgs = torch.stack([img_t for img_t, _ in tensor_cifar10], dim=3)\n",
    "mean = imgs.view(3, -1).mean(dim=1)\n",
    "std = imgs.view(3, -1).std(dim=1)\n",
    "\n",
    "transformed_cifar10 = datasets.CIFAR10(\n",
    "        data_path, train=True, download=False,\n",
    "        transform=transforms.Compose([\n",
    "            transforms.ToTensor(),\n",
    "            transforms.Normalize(mean,\n",
    "                std)\n",
    "        ]))\n",
    "transformed_cifar10_test = datasets.CIFAR10(\n",
    "    data_path, train=False, download=False,\n",
    "    transform=transforms.Compose([\n",
    "        transforms.ToTensor(),\n",
    "        transforms.Normalize(mean, std)\n",
    "    ])\n",
    ")"
   ]
  },
  {
   "cell_type": "code",
   "execution_count": null,
   "id": "af21f270",
   "metadata": {},
   "outputs": [],
   "source": [
    "label_map = {0: 0, 2: 1}\n",
    "class_names = ['airplane', 'bird']\n",
    "cifar2 = [(img, label_map[label]) for img, label in transformed_cifar10\n",
    "    if label in [0, 2]]\n",
    "cifar2_val = [(img, label_map[label]) for img, label in transformed_cifar10_test\n",
    "    if label in [0, 2]]"
   ]
  },
  {
   "cell_type": "code",
   "execution_count": null,
   "id": "edb395b3",
   "metadata": {},
   "outputs": [],
   "source": [
    "import torch\n",
    "import torch.nn as nn\n",
    "\n",
    "train_loader = torch.utils.data.DataLoader(cifar2, batch_size=64, shuffle=True)\n",
    "model = nn.Sequential(\n",
    "    nn.Linear(3072, 512),\n",
    "    nn.Tanh(),\n",
    "    nn.Linear(512, 2),\n",
    "    nn.LogSoftmax(dim=1)\n",
    ")"
   ]
  },
  {
   "cell_type": "markdown",
   "id": "144e9e86",
   "metadata": {},
   "source": [
    "Now to the training loop:"
   ]
  },
  {
   "cell_type": "code",
   "execution_count": null,
   "id": "370a8fb7",
   "metadata": {},
   "outputs": [
    {
     "name": "stdout",
     "output_type": "stream",
     "text": [
      "Epoch: 0, Loss: 0.741002\n",
      "Epoch: 1, Loss: 0.202902\n",
      "Epoch: 2, Loss: 0.477165\n",
      "Epoch: 3, Loss: 0.473894\n",
      "Epoch: 4, Loss: 0.441943\n",
      "Epoch: 5, Loss: 0.195325\n",
      "Epoch: 6, Loss: 0.224233\n",
      "Epoch: 7, Loss: 0.271204\n",
      "Epoch: 8, Loss: 0.335036\n",
      "Epoch: 9, Loss: 0.306430\n",
      "Epoch: 10, Loss: 0.437555\n",
      "Epoch: 11, Loss: 0.200985\n",
      "Epoch: 12, Loss: 0.669533\n",
      "Epoch: 13, Loss: 0.429679\n",
      "Epoch: 14, Loss: 0.217611\n",
      "Epoch: 15, Loss: 0.231916\n",
      "Epoch: 16, Loss: 0.267550\n",
      "Epoch: 17, Loss: 0.460777\n",
      "Epoch: 18, Loss: 0.503644\n",
      "Epoch: 19, Loss: 0.379193\n",
      "Epoch: 20, Loss: 0.372461\n",
      "Epoch: 21, Loss: 0.300076\n",
      "Epoch: 22, Loss: 0.148997\n",
      "Epoch: 23, Loss: 0.313084\n",
      "Epoch: 24, Loss: 0.120945\n",
      "Epoch: 25, Loss: 0.173020\n",
      "Epoch: 26, Loss: 0.171603\n",
      "Epoch: 27, Loss: 0.257246\n",
      "Epoch: 28, Loss: 0.303625\n",
      "Epoch: 29, Loss: 0.189082\n",
      "Epoch: 30, Loss: 0.144216\n",
      "Epoch: 31, Loss: 0.200064\n",
      "Epoch: 32, Loss: 0.210155\n",
      "Epoch: 33, Loss: 0.209165\n",
      "Epoch: 34, Loss: 0.072467\n",
      "Epoch: 35, Loss: 0.215702\n",
      "Epoch: 36, Loss: 0.127607\n",
      "Epoch: 37, Loss: 0.118915\n",
      "Epoch: 38, Loss: 0.093496\n",
      "Epoch: 39, Loss: 0.065776\n",
      "Epoch: 40, Loss: 0.067942\n",
      "Epoch: 41, Loss: 0.161917\n",
      "Epoch: 42, Loss: 0.383996\n",
      "Epoch: 43, Loss: 0.130836\n",
      "Epoch: 44, Loss: 0.094254\n",
      "Epoch: 45, Loss: 0.151962\n",
      "Epoch: 46, Loss: 0.111801\n",
      "Epoch: 47, Loss: 0.126056\n",
      "Epoch: 48, Loss: 0.041114\n",
      "Epoch: 49, Loss: 0.033288\n",
      "Epoch: 50, Loss: 0.038182\n",
      "Epoch: 51, Loss: 0.081106\n",
      "Epoch: 52, Loss: 0.054032\n",
      "Epoch: 53, Loss: 0.069780\n",
      "Epoch: 54, Loss: 0.060392\n",
      "Epoch: 55, Loss: 0.162469\n",
      "Epoch: 56, Loss: 0.017673\n",
      "Epoch: 57, Loss: 0.016093\n",
      "Epoch: 58, Loss: 0.023875\n",
      "Epoch: 59, Loss: 0.037672\n",
      "Epoch: 60, Loss: 0.085604\n",
      "Epoch: 61, Loss: 0.057026\n",
      "Epoch: 62, Loss: 0.122647\n",
      "Epoch: 63, Loss: 0.038134\n",
      "Epoch: 64, Loss: 0.094142\n",
      "Epoch: 65, Loss: 0.019809\n",
      "Epoch: 66, Loss: 0.053279\n",
      "Epoch: 67, Loss: 0.058953\n",
      "Epoch: 68, Loss: 0.037239\n",
      "Epoch: 69, Loss: 0.032516\n",
      "Epoch: 70, Loss: 0.026478\n",
      "Epoch: 71, Loss: 0.012871\n",
      "Epoch: 72, Loss: 0.057675\n",
      "Epoch: 73, Loss: 0.027563\n",
      "Epoch: 74, Loss: 0.024012\n",
      "Epoch: 75, Loss: 0.022551\n",
      "Epoch: 76, Loss: 0.044251\n",
      "Epoch: 77, Loss: 0.013121\n",
      "Epoch: 78, Loss: 0.015281\n",
      "Epoch: 79, Loss: 0.024797\n",
      "Epoch: 80, Loss: 0.015241\n",
      "Epoch: 81, Loss: 0.008142\n",
      "Epoch: 82, Loss: 0.006351\n",
      "Epoch: 83, Loss: 0.027018\n",
      "Epoch: 84, Loss: 0.009606\n",
      "Epoch: 85, Loss: 0.040201\n",
      "Epoch: 86, Loss: 0.014847\n",
      "Epoch: 87, Loss: 0.013843\n",
      "Epoch: 88, Loss: 0.017508\n",
      "Epoch: 89, Loss: 0.018643\n",
      "Epoch: 90, Loss: 0.009089\n",
      "Epoch: 91, Loss: 0.006362\n",
      "Epoch: 92, Loss: 0.015855\n",
      "Epoch: 93, Loss: 0.022914\n",
      "Epoch: 94, Loss: 0.078447\n",
      "Epoch: 95, Loss: 0.014375\n",
      "Epoch: 96, Loss: 0.006001\n",
      "Epoch: 97, Loss: 0.010115\n",
      "Epoch: 98, Loss: 0.036178\n",
      "Epoch: 99, Loss: 0.022728\n"
     ]
    }
   ],
   "source": [
    "import torch.optim as optim\n",
    "\n",
    "learning_rate = 1e-2\n",
    "optimizer = optim.SGD(model.parameters(), lr=learning_rate)\n",
    "loss_fn = nn.NLLLoss()\n",
    "n_epochs = 100\n",
    "\n",
    "for epoch in range(n_epochs):\n",
    "    for imgs, labels in train_loader:\n",
    "        batch_size = imgs.shape[0]\n",
    "        outputs = model(imgs.view(batch_size, -1))\n",
    "        loss = loss_fn(outputs, labels)\n",
    "        optimizer.zero_grad()\n",
    "        loss.backward()\n",
    "        optimizer.step()\n",
    "    print(\"Epoch: %d, Loss: %f\" % (epoch, float(loss)))"
   ]
  },
  {
   "cell_type": "markdown",
   "id": "b24ec40c",
   "metadata": {},
   "source": [
    "We notice that training in batches is not only faster but also it seems to give us a smaller loss to begin with."
   ]
  },
  {
   "cell_type": "markdown",
   "id": "0d25b9c2",
   "metadata": {},
   "source": [
    "Okay now let's thest the model"
   ]
  },
  {
   "cell_type": "code",
   "execution_count": null,
   "id": "fa287b5d",
   "metadata": {},
   "outputs": [
    {
     "name": "stdout",
     "output_type": "stream",
     "text": [
      "Accuracy:  82.05%\n"
     ]
    }
   ],
   "source": [
    "val_loader = torch.utils.data.DataLoader(cifar2_val, batch_size=64, shuffle=False)\n",
    "correct = 0\n",
    "total = 0\n",
    "\n",
    "with torch.no_grad():\n",
    "    for imgs, labels in val_loader:\n",
    "        batch_size = imgs.shape[0]\n",
    "        outputs = model(imgs.view(batch_size, -1))\n",
    "        _, predicted = torch.max(outputs, dim=1)\n",
    "        total += labels.shape[0]\n",
    "        correct += int((predicted == labels).sum())\n",
    "        \n",
    "    print(\"Accuracy: \", str(correct / total * 100) + '%')"
   ]
  },
  {
   "cell_type": "markdown",
   "id": "87f5160f",
   "metadata": {},
   "source": [
    "Let's see the accuracy on the training set as well:"
   ]
  },
  {
   "cell_type": "code",
   "execution_count": null,
   "id": "f3e2aec6",
   "metadata": {},
   "outputs": [
    {
     "name": "stdout",
     "output_type": "stream",
     "text": [
      "Training Accuracy:  99.94%\n"
     ]
    }
   ],
   "source": [
    "correct = 0\n",
    "total = 0\n",
    "\n",
    "with torch.no_grad():\n",
    "    for imgs, labels in train_loader:\n",
    "        batch_size = imgs.shape[0]\n",
    "        outputs = model(imgs.view(batch_size, -1))\n",
    "        _, predicted = torch.max(outputs, dim=1)\n",
    "        total += labels.shape[0]\n",
    "        correct += int((predicted == labels).sum())\n",
    "        \n",
    "    print(\"Training Accuracy: \", str(correct / total * 100) + '%')"
   ]
  },
  {
   "cell_type": "markdown",
   "id": "232c024f",
   "metadata": {},
   "source": [
    "The model probbly overfitted."
   ]
  },
  {
   "cell_type": "markdown",
   "id": "8be3bdde",
   "metadata": {},
   "source": [
    "81.39% is a great accuracy but I belive we could do better, by improving the model."
   ]
  },
  {
   "cell_type": "markdown",
   "id": "b732705e",
   "metadata": {},
   "source": [
    "We'll build a class this time "
   ]
  },
  {
   "cell_type": "code",
   "execution_count": null,
   "id": "c51e320c",
   "metadata": {},
   "outputs": [],
   "source": [
    "import torch.nn.functional as F\n",
    "import datetime\n",
    "\n",
    "class NetDropout(nn.Module):\n",
    "    def __init__(self, n_chans1=32):\n",
    "        super().__init__()\n",
    "        self.n_chans1 = n_chans1\n",
    "        self.conv1 = nn.Conv2d(3, n_chans1, kernel_size=3, padding=1)\n",
    "        self.conv1_dropout = nn.Dropout2d(p=0.4)\n",
    "        self.conv2 = nn.Conv2d(n_chans1, n_chans1 // 2, kernel_size=3,padding=1)\n",
    "        self.conv2_dropout = nn.Dropout2d(p=0.4)\n",
    "        self.fc1 = nn.Linear(8 * 8 * n_chans1 // 2, 32)\n",
    "        self.fc2 = nn.Linear(32, 2)\n",
    "    def forward(self, x):\n",
    "        out = F.max_pool2d(torch.tanh(self.conv1(x)), 2)\n",
    "        out = self.conv1_dropout(out)\n",
    "        out = F.max_pool2d(torch.tanh(self.conv2(out)), 2)\n",
    "        out = self.conv2_dropout(out)\n",
    "        out = out.view(-1,8*8* self.n_chans1 // 2)\n",
    "        out = torch.tanh(self.fc1(out))\n",
    "        out = self.fc2(out)\n",
    "        return out\n",
    "    \n",
    "def training_loop_l2reg(n_epochs, optimizer, model, loss_fn, train_loader):\n",
    "    model.train()\n",
    "    for epoch in range(1, n_epochs + 1):\n",
    "        loss_train = 0.0\n",
    "        for imgs, labels in train_loader:\n",
    "            outputs = model(imgs)\n",
    "            loss = loss_fn(outputs, labels)\n",
    "            l2_lambda = 0.001\n",
    "            l2_norm = sum(p.pow(2.0).sum() for p in model.parameters())\n",
    "            loss = loss + l2_lambda * l2_norm\n",
    "            optimizer.zero_grad()\n",
    "            loss.backward()\n",
    "            optimizer.step()\n",
    "            loss_train += loss.item()\n",
    "        if epoch == 1 or epoch % 10 == 0:\n",
    "            print('{} Epoch {}, Training loss {}'.format(datetime.datetime.now(), epoch, loss_train / len(train_loader)))"
   ]
  },
  {
   "cell_type": "code",
   "execution_count": null,
   "id": "a4559a99",
   "metadata": {},
   "outputs": [],
   "source": [
    "def test_model(model, test_loader, loss_fn):\n",
    "    model.eval()\n",
    "    test_loss = 0.0\n",
    "    correct = 0\n",
    "    total = 0\n",
    "\n",
    "    with torch.no_grad():\n",
    "        for imgs, labels in test_loader:\n",
    "            outputs = model(imgs)\n",
    "            loss = loss_fn(outputs, labels)\n",
    "            test_loss += loss.item()\n",
    "\n",
    "            preds = outputs.argmax(dim=1)\n",
    "            correct += (preds == labels).sum().item()\n",
    "            total += labels.size(0)\n",
    "\n",
    "    avg_loss = test_loss / len(test_loader)\n",
    "    accuracy = correct / total * 100\n",
    "    print(f\"Test Loss: {avg_loss:.4f}, Accuracy: {correct}/{total} ({accuracy:.2f}%)\")"
   ]
  },
  {
   "cell_type": "code",
   "execution_count": null,
   "id": "32bdb578",
   "metadata": {},
   "outputs": [
    {
     "name": "stdout",
     "output_type": "stream",
     "text": [
      "2025-06-15 22:40:00.487110 Epoch 1, Training loss 0.6012223190183092\n",
      "2025-06-15 22:40:56.406221 Epoch 10, Training loss 0.4076748763679699\n",
      "2025-06-15 22:41:57.353949 Epoch 20, Training loss 0.3830171353687906\n",
      "2025-06-15 22:43:59.945942 Epoch 30, Training loss 0.357512073911679\n",
      "2025-06-15 22:47:02.257253 Epoch 40, Training loss 0.3401077356497953\n",
      "2025-06-15 22:50:02.026033 Epoch 50, Training loss 0.3314001347608627\n",
      "2025-06-15 22:52:50.344908 Epoch 60, Training loss 0.31602984885121604\n",
      "2025-06-15 22:55:49.156888 Epoch 70, Training loss 0.30747348108109396\n",
      "2025-06-15 22:58:47.973373 Epoch 80, Training loss 0.2944838030702749\n",
      "2025-06-15 23:01:54.181300 Epoch 90, Training loss 0.2908242531832616\n",
      "2025-06-15 23:04:57.292980 Epoch 100, Training loss 0.2808274525176188\n"
     ]
    }
   ],
   "source": [
    "modelDropout = NetDropout()\n",
    "\n",
    "learning_rate = 1e-2\n",
    "optimizer = optim.SGD(modelDropout.parameters(), lr=learning_rate)\n",
    "loss_fn = nn.CrossEntropyLoss()\n",
    "n_epochs = 100\n",
    "\n",
    "\n",
    "training_loop_l2reg(n_epochs, optimizer, modelDropout, loss_fn, train_loader)"
   ]
  },
  {
   "cell_type": "markdown",
   "id": "3fd2a341",
   "metadata": {},
   "source": [
    "Now let's compute the Accuracies:"
   ]
  },
  {
   "cell_type": "code",
   "execution_count": null,
   "id": "2e3d4ce5",
   "metadata": {},
   "outputs": [
    {
     "name": "stdout",
     "output_type": "stream",
     "text": [
      "Test Loss: 0.2067, Accuracy: 9192/10000 (91.92%)\n"
     ]
    }
   ],
   "source": [
    "test_model(modelDropout, train_loader, loss_fn)"
   ]
  },
  {
   "cell_type": "code",
   "execution_count": null,
   "id": "357b4fea",
   "metadata": {},
   "outputs": [
    {
     "name": "stdout",
     "output_type": "stream",
     "text": [
      "Test Loss: 0.2617, Accuracy: 1785/2000 (89.25%)\n"
     ]
    }
   ],
   "source": [
    "test_model(modelDropout, val_loader, loss_fn)"
   ]
  },
  {
   "cell_type": "markdown",
   "id": "f3eb4d31",
   "metadata": {},
   "source": [
    "Let's visualise the differences between the models:"
   ]
  },
  {
   "cell_type": "code",
   "execution_count": null,
   "id": "1456f8d6",
   "metadata": {},
   "outputs": [
    {
     "data": {
      "image/png": "[encoded data removed]",
      "text/plain": [
       "<Figure size 640x480 with 1 Axes>"
      ]
     },
     "metadata": {},
     "output_type": "display_data"
    }
   ],
   "source": [
    "import matplotlib.pyplot as plt\n",
    "import numpy as np\n",
    "\n",
    "types = ['Train', 'Test']\n",
    "firstModelAcc = [99.94, 82.05]\n",
    "secondModelAcc = [91.92, 89.25]\n",
    "\n",
    "x = np.array([0, 1])\n",
    "width = 0.35\n",
    "\n",
    "x_train = x - width / 2\n",
    "x_test = x + width / 2\n",
    "\n",
    "fig, ax = plt.subplots(layout='constrained')\n",
    "\n",
    "train_bars = ax.bar(x_train[0], firstModelAcc[0], width, color='tab:blue', label='Train')\n",
    "test_bars = ax.bar(x_test[0], firstModelAcc[1], width, color='tab:orange', label='Test')\n",
    "\n",
    "train_bars2 = ax.bar(x_train[1], secondModelAcc[0], width, color='tab:blue')\n",
    "test_bars2 = ax.bar(x_test[1], secondModelAcc[1], width, color='tab:orange')\n",
    "\n",
    "ax.set_ylabel('Accuracy (%)')\n",
    "ax.set_title('Train and Test Accuracy for Each Model')\n",
    "ax.set_xticks(x)\n",
    "ax.set_xticklabels(['First Model', 'Second Model'])\n",
    "ax.set_ylim(0, 110)\n",
    "ax.legend()\n",
    "\n",
    "ax.bar_label(train_bars, padding=3, fmt='%.2f')\n",
    "ax.bar_label(test_bars, padding=3, fmt='%.2f')\n",
    "ax.bar_label(train_bars2, padding=3, fmt='%.2f')\n",
    "ax.bar_label(test_bars2, padding=3, fmt='%.2f')\n",
    "plt.show()"
   ]
  }
 ],
 "metadata": {
  "kernelspec": {
   "display_name": "Python 3",
   "language": "python",
   "name": "python3"
  },
  "language_info": {
   "codemirror_mode": {
    "name": "ipython",
    "version": 3
   },
   "file_extension": ".py",
   "mimetype": "text/x-python",
   "name": "python",
   "nbconvert_exporter": "python",
   "pygments_lexer": "ipython3",
   "version": "3.9.0"
  }
 },
 "nbformat": 4,
 "nbformat_minor": 5
}
