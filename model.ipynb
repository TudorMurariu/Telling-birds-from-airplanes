{
 "cells": [
  {
   "cell_type": "markdown",
   "id": "c5b03b85",
   "metadata": {},
   "source": [
    "# Let's use a Data Loader now"
   ]
  },
  {
   "cell_type": "code",
   "execution_count": 1,
   "id": "9d15463e",
   "metadata": {},
   "outputs": [
    {
     "name": "stdout",
     "output_type": "stream",
     "text": [
      "Files already downloaded and verified\n",
      "Files already downloaded and verified\n"
     ]
    }
   ],
   "source": [
    "from torchvision import datasets\n",
    "data_path = '../data-unversioned/p1ch7/'\n",
    "cifar10 = datasets.CIFAR10(data_path, train=True, download=True)\n",
    "cifar10_val = datasets.CIFAR10(data_path, train=False, download=True)"
   ]
  },
  {
   "cell_type": "code",
   "execution_count": null,
   "id": "96bd1ab8",
   "metadata": {},
   "outputs": [],
   "source": [
    "import torch\n",
    "imgs = torch.stack([img_t for img_t, _ in tensor_cifar10], dim=3)\n",
    "mean = imgs.view(3, -1).mean(dim=1)\n",
    "std = imgs.view(3, -1).std(dim=1)\n",
    "\n",
    "transformed_cifar10 = datasets.CIFAR10(\n",
    "        data_path, train=True, download=False,\n",
    "        transform=transforms.Compose([\n",
    "            transforms.ToTensor(),\n",
    "            transforms.Normalize(mean,\n",
    "                std)\n",
    "        ]))\n",
    "transformed_cifar10_test = datasets.CIFAR10(\n",
    "    data_path, train=False, download=False,\n",
    "    transform=transforms.Compose([\n",
    "        transforms.ToTensor(),\n",
    "        transforms.Normalize(mean, std)\n",
    "    ])\n",
    ")"
   ]
  },
  {
   "cell_type": "code",
   "execution_count": 4,
   "id": "af21f270",
   "metadata": {},
   "outputs": [],
   "source": [
    "label_map = {0: 0, 2: 1}\n",
    "class_names = ['airplane', 'bird']\n",
    "cifar2 = [(img, label_map[label]) for img, label in transformed_cifar10\n",
    "    if label in [0, 2]]\n",
    "cifar2_val = [(img, label_map[label]) for img, label in transformed_cifar10_test\n",
    "    if label in [0, 2]]"
   ]
  },
  {
   "cell_type": "code",
   "execution_count": 6,
   "id": "edb395b3",
   "metadata": {},
   "outputs": [],
   "source": [
    "import torch\n",
    "import torch.nn as nn\n",
    "\n",
    "train_loader = torch.utils.data.DataLoader(cifar2, batch_size=64, shuffle=True)\n",
    "model = nn.Sequential(\n",
    "    nn.Linear(3072, 512),\n",
    "    nn.Tanh(),\n",
    "    nn.Linear(512, 2),\n",
    "    nn.LogSoftmax(dim=1)\n",
    ")"
   ]
  },
  {
   "cell_type": "markdown",
   "id": "144e9e86",
   "metadata": {},
   "source": [
    "Now to the training loop:"
   ]
  },
  {
   "cell_type": "code",
   "execution_count": 8,
   "id": "370a8fb7",
   "metadata": {},
   "outputs": [
    {
     "name": "stdout",
     "output_type": "stream",
     "text": [
      "Epoch: 0, Loss: 0.818551\n",
      "Epoch: 1, Loss: 0.693236\n",
      "Epoch: 2, Loss: 0.466720\n",
      "Epoch: 3, Loss: 0.627785\n",
      "Epoch: 4, Loss: 0.409150\n",
      "Epoch: 5, Loss: 0.308183\n",
      "Epoch: 6, Loss: 0.396919\n",
      "Epoch: 7, Loss: 0.413389\n",
      "Epoch: 8, Loss: 0.350740\n",
      "Epoch: 9, Loss: 0.209187\n",
      "Epoch: 10, Loss: 0.240583\n",
      "Epoch: 11, Loss: 0.264094\n",
      "Epoch: 12, Loss: 0.486026\n",
      "Epoch: 13, Loss: 0.529498\n",
      "Epoch: 14, Loss: 0.693913\n",
      "Epoch: 15, Loss: 0.487888\n",
      "Epoch: 16, Loss: 0.159273\n",
      "Epoch: 17, Loss: 0.315060\n",
      "Epoch: 18, Loss: 0.262060\n",
      "Epoch: 19, Loss: 0.164396\n",
      "Epoch: 20, Loss: 0.369528\n",
      "Epoch: 21, Loss: 0.145587\n",
      "Epoch: 22, Loss: 0.178740\n",
      "Epoch: 23, Loss: 0.247337\n",
      "Epoch: 24, Loss: 0.610965\n",
      "Epoch: 25, Loss: 0.195835\n",
      "Epoch: 26, Loss: 0.256968\n",
      "Epoch: 27, Loss: 0.186783\n",
      "Epoch: 28, Loss: 0.136518\n",
      "Epoch: 29, Loss: 0.248617\n",
      "Epoch: 30, Loss: 0.170237\n",
      "Epoch: 31, Loss: 0.403260\n",
      "Epoch: 32, Loss: 0.112144\n",
      "Epoch: 33, Loss: 0.078118\n",
      "Epoch: 34, Loss: 0.187679\n",
      "Epoch: 35, Loss: 0.086263\n",
      "Epoch: 36, Loss: 0.152157\n",
      "Epoch: 37, Loss: 0.215807\n",
      "Epoch: 38, Loss: 0.230098\n",
      "Epoch: 39, Loss: 0.076640\n",
      "Epoch: 40, Loss: 0.081325\n",
      "Epoch: 41, Loss: 0.129972\n",
      "Epoch: 42, Loss: 0.028925\n",
      "Epoch: 43, Loss: 0.100602\n",
      "Epoch: 44, Loss: 0.080767\n",
      "Epoch: 45, Loss: 0.122178\n",
      "Epoch: 46, Loss: 0.088308\n",
      "Epoch: 47, Loss: 0.085450\n",
      "Epoch: 48, Loss: 0.065305\n",
      "Epoch: 49, Loss: 0.148600\n",
      "Epoch: 50, Loss: 0.140402\n",
      "Epoch: 51, Loss: 0.085514\n",
      "Epoch: 52, Loss: 0.101094\n",
      "Epoch: 53, Loss: 0.057005\n",
      "Epoch: 54, Loss: 0.160647\n",
      "Epoch: 55, Loss: 0.069010\n",
      "Epoch: 56, Loss: 0.076714\n",
      "Epoch: 57, Loss: 0.132146\n",
      "Epoch: 58, Loss: 0.043278\n",
      "Epoch: 59, Loss: 0.103587\n",
      "Epoch: 60, Loss: 0.045815\n",
      "Epoch: 61, Loss: 0.034399\n",
      "Epoch: 62, Loss: 0.034133\n",
      "Epoch: 63, Loss: 0.024375\n",
      "Epoch: 64, Loss: 0.022868\n",
      "Epoch: 65, Loss: 0.030056\n",
      "Epoch: 66, Loss: 0.047810\n",
      "Epoch: 67, Loss: 0.022693\n",
      "Epoch: 68, Loss: 0.017313\n",
      "Epoch: 69, Loss: 0.034069\n",
      "Epoch: 70, Loss: 0.047238\n",
      "Epoch: 71, Loss: 0.023768\n",
      "Epoch: 72, Loss: 0.012528\n",
      "Epoch: 73, Loss: 0.014857\n",
      "Epoch: 74, Loss: 0.021396\n",
      "Epoch: 75, Loss: 0.009560\n",
      "Epoch: 76, Loss: 0.017413\n",
      "Epoch: 77, Loss: 0.046638\n",
      "Epoch: 78, Loss: 0.036796\n",
      "Epoch: 79, Loss: 0.015042\n",
      "Epoch: 80, Loss: 0.035289\n",
      "Epoch: 81, Loss: 0.015482\n",
      "Epoch: 82, Loss: 0.110463\n",
      "Epoch: 83, Loss: 0.033158\n",
      "Epoch: 84, Loss: 0.033580\n",
      "Epoch: 85, Loss: 0.041229\n",
      "Epoch: 86, Loss: 0.030066\n",
      "Epoch: 87, Loss: 0.039792\n",
      "Epoch: 88, Loss: 0.123589\n",
      "Epoch: 89, Loss: 0.007091\n",
      "Epoch: 90, Loss: 0.024755\n",
      "Epoch: 91, Loss: 0.016665\n",
      "Epoch: 92, Loss: 0.019492\n",
      "Epoch: 93, Loss: 0.006654\n",
      "Epoch: 94, Loss: 0.006056\n",
      "Epoch: 95, Loss: 0.014696\n",
      "Epoch: 96, Loss: 0.020769\n",
      "Epoch: 97, Loss: 0.018032\n",
      "Epoch: 98, Loss: 0.064260\n",
      "Epoch: 99, Loss: 0.007185\n"
     ]
    }
   ],
   "source": [
    "import torch.optim as optim\n",
    "\n",
    "learning_rate = 1e-2\n",
    "optimizer = optim.SGD(model.parameters(), lr=learning_rate)\n",
    "loss_fn = nn.NLLLoss()\n",
    "n_epochs = 100\n",
    "\n",
    "for epoch in range(n_epochs):\n",
    "    for imgs, labels in train_loader:\n",
    "        batch_size = imgs.shape[0]\n",
    "        outputs = model(imgs.view(batch_size, -1))\n",
    "        loss = loss_fn(outputs, labels)\n",
    "        optimizer.zero_grad()\n",
    "        loss.backward()\n",
    "        optimizer.step()\n",
    "    print(\"Epoch: %d, Loss: %f\" % (epoch, float(loss)))"
   ]
  },
  {
   "cell_type": "markdown",
   "id": "b24ec40c",
   "metadata": {},
   "source": [
    "We notice that training in batches is not only faster but also it seems to give us a smaller loss to begin with."
   ]
  },
  {
   "cell_type": "markdown",
   "id": "0d25b9c2",
   "metadata": {},
   "source": [
    "Okay now let's thest the model"
   ]
  },
  {
   "cell_type": "code",
   "execution_count": 15,
   "id": "fa287b5d",
   "metadata": {},
   "outputs": [
    {
     "name": "stdout",
     "output_type": "stream",
     "text": [
      "Accuracy:  81.39999999999999%\n"
     ]
    }
   ],
   "source": [
    "val_loader = torch.utils.data.DataLoader(cifar2_val, batch_size=64, shuffle=False)\n",
    "correct = 0\n",
    "total = 0\n",
    "\n",
    "with torch.no_grad():\n",
    "    for imgs, labels in val_loader:\n",
    "        batch_size = imgs.shape[0]\n",
    "        outputs = model(imgs.view(batch_size, -1))\n",
    "        _, predicted = torch.max(outputs, dim=1)\n",
    "        total += labels.shape[0]\n",
    "        correct += int((predicted == labels).sum())\n",
    "        \n",
    "    print(\"Accuracy: \", str(correct / total * 100) + '%')"
   ]
  },
  {
   "cell_type": "markdown",
   "id": "8be3bdde",
   "metadata": {},
   "source": [
    "81.39% is a great accuracy but I belive we could do better, by improving the model."
   ]
  },
  {
   "cell_type": "markdown",
   "id": "1af7df91",
   "metadata": {},
   "source": []
  }
 ],
 "metadata": {
  "kernelspec": {
   "display_name": "Python 3",
   "language": "python",
   "name": "python3"
  },
  "language_info": {
   "codemirror_mode": {
    "name": "ipython",
    "version": 3
   },
   "file_extension": ".py",
   "mimetype": "text/x-python",
   "name": "python",
   "nbconvert_exporter": "python",
   "pygments_lexer": "ipython3",
   "version": "3.9.0"
  }
 },
 "nbformat": 4,
 "nbformat_minor": 5
}
