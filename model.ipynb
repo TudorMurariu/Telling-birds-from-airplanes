{
 "cells": [
  {
   "cell_type": "markdown",
   "id": "c5b03b85",
   "metadata": {},
   "source": [
    "# Let's use a Data Loader now"
   ]
  },
  {
   "cell_type": "code",
   "execution_count": 1,
   "id": "9d15463e",
   "metadata": {},
   "outputs": [
    {
     "name": "stdout",
     "output_type": "stream",
     "text": [
      "Files already downloaded and verified\n",
      "Files already downloaded and verified\n"
     ]
    }
   ],
   "source": [
    "from torchvision import datasets\n",
    "data_path = '../data-unversioned/p1ch7/'\n",
    "cifar10 = datasets.CIFAR10(data_path, train=True, download=True)\n",
    "cifar10_val = datasets.CIFAR10(data_path, train=False, download=True)"
   ]
  },
  {
   "cell_type": "code",
   "execution_count": 2,
   "id": "237a102b",
   "metadata": {},
   "outputs": [],
   "source": [
    "from torchvision import transforms\n",
    "tensor_cifar10 = datasets.CIFAR10(data_path, train=True, download=False, transform=transforms.ToTensor())"
   ]
  },
  {
   "cell_type": "code",
   "execution_count": 3,
   "id": "96bd1ab8",
   "metadata": {},
   "outputs": [],
   "source": [
    "import torch\n",
    "imgs = torch.stack([img_t for img_t, _ in tensor_cifar10], dim=3)\n",
    "mean = imgs.view(3, -1).mean(dim=1)\n",
    "std = imgs.view(3, -1).std(dim=1)\n",
    "\n",
    "transformed_cifar10 = datasets.CIFAR10(\n",
    "        data_path, train=True, download=False,\n",
    "        transform=transforms.Compose([\n",
    "            transforms.ToTensor(),\n",
    "            transforms.Normalize(mean,\n",
    "                std)\n",
    "        ]))\n",
    "transformed_cifar10_test = datasets.CIFAR10(\n",
    "    data_path, train=False, download=False,\n",
    "    transform=transforms.Compose([\n",
    "        transforms.ToTensor(),\n",
    "        transforms.Normalize(mean, std)\n",
    "    ])\n",
    ")"
   ]
  },
  {
   "cell_type": "code",
   "execution_count": 4,
   "id": "af21f270",
   "metadata": {},
   "outputs": [],
   "source": [
    "label_map = {0: 0, 2: 1}\n",
    "class_names = ['airplane', 'bird']\n",
    "cifar2 = [(img, label_map[label]) for img, label in transformed_cifar10\n",
    "    if label in [0, 2]]\n",
    "cifar2_val = [(img, label_map[label]) for img, label in transformed_cifar10_test\n",
    "    if label in [0, 2]]"
   ]
  },
  {
   "cell_type": "code",
   "execution_count": 5,
   "id": "edb395b3",
   "metadata": {},
   "outputs": [],
   "source": [
    "import torch\n",
    "import torch.nn as nn\n",
    "\n",
    "train_loader = torch.utils.data.DataLoader(cifar2, batch_size=64, shuffle=True)\n",
    "model = nn.Sequential(\n",
    "    nn.Linear(3072, 512),\n",
    "    nn.Tanh(),\n",
    "    nn.Linear(512, 2),\n",
    "    nn.LogSoftmax(dim=1)\n",
    ")"
   ]
  },
  {
   "cell_type": "markdown",
   "id": "144e9e86",
   "metadata": {},
   "source": [
    "Now to the training loop:"
   ]
  },
  {
   "cell_type": "code",
   "execution_count": 6,
   "id": "370a8fb7",
   "metadata": {},
   "outputs": [
    {
     "name": "stdout",
     "output_type": "stream",
     "text": [
      "Epoch: 0, Loss: 0.277043\n",
      "Epoch: 1, Loss: 0.631088\n",
      "Epoch: 2, Loss: 0.662570\n",
      "Epoch: 3, Loss: 0.283805\n",
      "Epoch: 4, Loss: 0.357477\n",
      "Epoch: 5, Loss: 0.690830\n",
      "Epoch: 6, Loss: 0.272724\n",
      "Epoch: 7, Loss: 0.455069\n",
      "Epoch: 8, Loss: 0.349709\n",
      "Epoch: 9, Loss: 0.289403\n",
      "Epoch: 10, Loss: 0.499735\n",
      "Epoch: 11, Loss: 0.190645\n",
      "Epoch: 12, Loss: 0.354339\n",
      "Epoch: 13, Loss: 0.331628\n",
      "Epoch: 14, Loss: 0.464531\n",
      "Epoch: 15, Loss: 0.559139\n",
      "Epoch: 16, Loss: 0.391120\n",
      "Epoch: 17, Loss: 0.468126\n",
      "Epoch: 18, Loss: 0.343720\n",
      "Epoch: 19, Loss: 0.502399\n",
      "Epoch: 20, Loss: 0.473962\n",
      "Epoch: 21, Loss: 0.195986\n",
      "Epoch: 22, Loss: 0.137094\n",
      "Epoch: 23, Loss: 0.250438\n",
      "Epoch: 24, Loss: 0.248050\n",
      "Epoch: 25, Loss: 0.138645\n",
      "Epoch: 26, Loss: 0.240619\n",
      "Epoch: 27, Loss: 0.176517\n",
      "Epoch: 28, Loss: 0.243754\n",
      "Epoch: 29, Loss: 0.201717\n",
      "Epoch: 30, Loss: 0.141625\n",
      "Epoch: 31, Loss: 0.264301\n",
      "Epoch: 32, Loss: 0.111820\n",
      "Epoch: 33, Loss: 0.310889\n",
      "Epoch: 34, Loss: 0.138218\n",
      "Epoch: 35, Loss: 0.162626\n",
      "Epoch: 36, Loss: 0.158644\n",
      "Epoch: 37, Loss: 0.186684\n",
      "Epoch: 38, Loss: 0.216197\n",
      "Epoch: 39, Loss: 0.069332\n",
      "Epoch: 40, Loss: 0.103936\n",
      "Epoch: 41, Loss: 0.115531\n",
      "Epoch: 42, Loss: 0.107827\n",
      "Epoch: 43, Loss: 0.069885\n",
      "Epoch: 44, Loss: 0.180213\n",
      "Epoch: 45, Loss: 0.097041\n",
      "Epoch: 46, Loss: 0.044835\n",
      "Epoch: 47, Loss: 0.326185\n",
      "Epoch: 48, Loss: 0.059774\n",
      "Epoch: 49, Loss: 0.110612\n",
      "Epoch: 50, Loss: 0.079571\n",
      "Epoch: 51, Loss: 0.046150\n",
      "Epoch: 52, Loss: 0.152424\n",
      "Epoch: 53, Loss: 0.080260\n",
      "Epoch: 54, Loss: 0.115616\n",
      "Epoch: 55, Loss: 0.098352\n",
      "Epoch: 56, Loss: 0.346348\n",
      "Epoch: 57, Loss: 0.024133\n",
      "Epoch: 58, Loss: 0.036461\n",
      "Epoch: 59, Loss: 0.063882\n",
      "Epoch: 60, Loss: 0.055583\n",
      "Epoch: 61, Loss: 0.074160\n",
      "Epoch: 62, Loss: 0.049249\n",
      "Epoch: 63, Loss: 0.294821\n",
      "Epoch: 64, Loss: 0.062799\n",
      "Epoch: 65, Loss: 0.110019\n",
      "Epoch: 66, Loss: 0.021913\n",
      "Epoch: 67, Loss: 0.040979\n",
      "Epoch: 68, Loss: 0.063644\n",
      "Epoch: 69, Loss: 0.037429\n",
      "Epoch: 70, Loss: 0.017013\n",
      "Epoch: 71, Loss: 0.027372\n",
      "Epoch: 72, Loss: 0.039121\n",
      "Epoch: 73, Loss: 0.016659\n",
      "Epoch: 74, Loss: 0.036341\n",
      "Epoch: 75, Loss: 0.056285\n",
      "Epoch: 76, Loss: 0.016714\n",
      "Epoch: 77, Loss: 0.022228\n",
      "Epoch: 78, Loss: 0.030370\n",
      "Epoch: 79, Loss: 0.080374\n",
      "Epoch: 80, Loss: 0.010564\n",
      "Epoch: 81, Loss: 0.031502\n",
      "Epoch: 82, Loss: 0.019015\n",
      "Epoch: 83, Loss: 0.037140\n",
      "Epoch: 84, Loss: 0.017494\n",
      "Epoch: 85, Loss: 0.029340\n",
      "Epoch: 86, Loss: 0.071213\n",
      "Epoch: 87, Loss: 0.031017\n",
      "Epoch: 88, Loss: 0.008518\n",
      "Epoch: 89, Loss: 0.030899\n",
      "Epoch: 90, Loss: 0.015848\n",
      "Epoch: 91, Loss: 0.009063\n",
      "Epoch: 92, Loss: 0.021564\n",
      "Epoch: 93, Loss: 0.006486\n",
      "Epoch: 94, Loss: 0.019523\n",
      "Epoch: 95, Loss: 0.016639\n",
      "Epoch: 96, Loss: 0.005537\n",
      "Epoch: 97, Loss: 0.029030\n",
      "Epoch: 98, Loss: 0.021051\n",
      "Epoch: 99, Loss: 0.012900\n"
     ]
    }
   ],
   "source": [
    "import torch.optim as optim\n",
    "\n",
    "learning_rate = 1e-2\n",
    "optimizer = optim.SGD(model.parameters(), lr=learning_rate)\n",
    "loss_fn = nn.NLLLoss()\n",
    "n_epochs = 100\n",
    "\n",
    "for epoch in range(n_epochs):\n",
    "    for imgs, labels in train_loader:\n",
    "        batch_size = imgs.shape[0]\n",
    "        outputs = model(imgs.view(batch_size, -1))\n",
    "        loss = loss_fn(outputs, labels)\n",
    "        optimizer.zero_grad()\n",
    "        loss.backward()\n",
    "        optimizer.step()\n",
    "    print(\"Epoch: %d, Loss: %f\" % (epoch, float(loss)))"
   ]
  },
  {
   "cell_type": "markdown",
   "id": "b24ec40c",
   "metadata": {},
   "source": [
    "We notice that training in batches is not only faster but also it seems to give us a smaller loss to begin with."
   ]
  },
  {
   "cell_type": "markdown",
   "id": "0d25b9c2",
   "metadata": {},
   "source": [
    "Okay now let's thest the model"
   ]
  },
  {
   "cell_type": "code",
   "execution_count": 7,
   "id": "fa287b5d",
   "metadata": {},
   "outputs": [
    {
     "name": "stdout",
     "output_type": "stream",
     "text": [
      "Accuracy:  82.45%\n"
     ]
    }
   ],
   "source": [
    "val_loader = torch.utils.data.DataLoader(cifar2_val, batch_size=64, shuffle=False)\n",
    "correct = 0\n",
    "total = 0\n",
    "\n",
    "with torch.no_grad():\n",
    "    for imgs, labels in val_loader:\n",
    "        batch_size = imgs.shape[0]\n",
    "        outputs = model(imgs.view(batch_size, -1))\n",
    "        _, predicted = torch.max(outputs, dim=1)\n",
    "        total += labels.shape[0]\n",
    "        correct += int((predicted == labels).sum())\n",
    "        \n",
    "    print(\"Accuracy: \", str(correct / total * 100) + '%')"
   ]
  },
  {
   "cell_type": "markdown",
   "id": "87f5160f",
   "metadata": {},
   "source": [
    "Let's see the accuracy on the training set as well:"
   ]
  },
  {
   "cell_type": "code",
   "execution_count": 8,
   "id": "f3e2aec6",
   "metadata": {},
   "outputs": [
    {
     "name": "stdout",
     "output_type": "stream",
     "text": [
      "Training Accuracy:  99.91%\n"
     ]
    }
   ],
   "source": [
    "correct = 0\n",
    "total = 0\n",
    "\n",
    "with torch.no_grad():\n",
    "    for imgs, labels in train_loader:\n",
    "        batch_size = imgs.shape[0]\n",
    "        outputs = model(imgs.view(batch_size, -1))\n",
    "        _, predicted = torch.max(outputs, dim=1)\n",
    "        total += labels.shape[0]\n",
    "        correct += int((predicted == labels).sum())\n",
    "        \n",
    "    print(\"Training Accuracy: \", str(correct / total * 100) + '%')"
   ]
  },
  {
   "cell_type": "markdown",
   "id": "232c024f",
   "metadata": {},
   "source": [
    "The model probbly overfitted."
   ]
  },
  {
   "cell_type": "markdown",
   "id": "8be3bdde",
   "metadata": {},
   "source": [
    "81.39% is a great accuracy but I belive we could do better, by improving the model."
   ]
  },
  {
   "cell_type": "markdown",
   "id": "b732705e",
   "metadata": {},
   "source": [
    "We'll build a class this time "
   ]
  },
  {
   "cell_type": "code",
   "execution_count": 9,
   "id": "c51e320c",
   "metadata": {},
   "outputs": [],
   "source": [
    "import torch.nn.functional as F\n",
    "import datetime\n",
    "\n",
    "class NetDropout(nn.Module):\n",
    "    def __init__(self, n_chans1=32):\n",
    "        super().__init__()\n",
    "        self.n_chans1 = n_chans1\n",
    "        self.conv1 = nn.Conv2d(3, n_chans1, kernel_size=3, padding=1)\n",
    "        self.conv1_dropout = nn.Dropout2d(p=0.4)\n",
    "        self.conv2 = nn.Conv2d(n_chans1, n_chans1 // 2, kernel_size=3,padding=1)\n",
    "        self.conv2_dropout = nn.Dropout2d(p=0.4)\n",
    "        self.fc1 = nn.Linear(8 * 8 * n_chans1 // 2, 32)\n",
    "        self.fc2 = nn.Linear(32, 2)\n",
    "    def forward(self, x):\n",
    "        out = F.max_pool2d(torch.tanh(self.conv1(x)), 2)\n",
    "        out = self.conv1_dropout(out)\n",
    "        out = F.max_pool2d(torch.tanh(self.conv2(out)), 2)\n",
    "        out = self.conv2_dropout(out)\n",
    "        out = out.view(-1,8*8* self.n_chans1 // 2)\n",
    "        out = torch.tanh(self.fc1(out))\n",
    "        out = self.fc2(out)\n",
    "        return out\n",
    "    \n",
    "def training_loop_l2reg(n_epochs, optimizer, model, loss_fn, train_loader):\n",
    "    model.train()\n",
    "    for epoch in range(1, n_epochs + 1):\n",
    "        loss_train = 0.0\n",
    "        for imgs, labels in train_loader:\n",
    "            outputs = model(imgs)\n",
    "            loss = loss_fn(outputs, labels)\n",
    "            l2_lambda = 0.001\n",
    "            l2_norm = sum(p.pow(2.0).sum() for p in model.parameters())\n",
    "            loss = loss + l2_lambda * l2_norm\n",
    "            optimizer.zero_grad()\n",
    "            loss.backward()\n",
    "            optimizer.step()\n",
    "            loss_train += loss.item()\n",
    "        if epoch == 1 or epoch % 10 == 0:\n",
    "            print('{} Epoch {}, Training loss {}'.format(datetime.datetime.now(), epoch, loss_train / len(train_loader)))"
   ]
  },
  {
   "cell_type": "code",
   "execution_count": 10,
   "id": "a4559a99",
   "metadata": {},
   "outputs": [],
   "source": [
    "def test_model(model, test_loader, loss_fn):\n",
    "    model.eval()\n",
    "    test_loss = 0.0\n",
    "    correct = 0\n",
    "    total = 0\n",
    "\n",
    "    with torch.no_grad():\n",
    "        for imgs, labels in test_loader:\n",
    "            outputs = model(imgs)\n",
    "            loss = loss_fn(outputs, labels)\n",
    "            test_loss += loss.item()\n",
    "\n",
    "            preds = outputs.argmax(dim=1)\n",
    "            correct += (preds == labels).sum().item()\n",
    "            total += labels.size(0)\n",
    "\n",
    "    avg_loss = test_loss / len(test_loader)\n",
    "    accuracy = correct / total * 100\n",
    "    print(f\"Test Loss: {avg_loss:.4f}, Accuracy: {correct}/{total} ({accuracy:.2f}%)\")"
   ]
  },
  {
   "cell_type": "code",
   "execution_count": 12,
   "id": "32bdb578",
   "metadata": {},
   "outputs": [
    {
     "name": "stdout",
     "output_type": "stream",
     "text": [
      "2025-06-16 23:52:15.918529 Epoch 1, Training loss 0.5911402745990996\n",
      "2025-06-16 23:53:16.463225 Epoch 10, Training loss 0.40393173922399045\n"
     ]
    }
   ],
   "source": [
    "modelDropout = NetDropout()\n",
    "\n",
    "learning_rate = 1e-2\n",
    "optimizer = optim.SGD(modelDropout.parameters(), lr=learning_rate)\n",
    "loss_fn = nn.CrossEntropyLoss()\n",
    "n_epochs = 10\n",
    "\n",
    "\n",
    "training_loop_l2reg(n_epochs, optimizer, modelDropout, loss_fn, train_loader)"
   ]
  },
  {
   "cell_type": "markdown",
   "id": "3fd2a341",
   "metadata": {},
   "source": [
    "Now let's compute the Accuracies:"
   ]
  },
  {
   "cell_type": "code",
   "execution_count": 13,
   "id": "2e3d4ce5",
   "metadata": {},
   "outputs": [
    {
     "name": "stdout",
     "output_type": "stream",
     "text": [
      "Test Loss: 0.3487, Accuracy: 8473/10000 (84.73%)\n"
     ]
    }
   ],
   "source": [
    "test_model(modelDropout, train_loader, loss_fn)"
   ]
  },
  {
   "cell_type": "code",
   "execution_count": 14,
   "id": "357b4fea",
   "metadata": {},
   "outputs": [
    {
     "name": "stdout",
     "output_type": "stream",
     "text": [
      "Test Loss: 0.3526, Accuracy: 1676/2000 (83.80%)\n"
     ]
    }
   ],
   "source": [
    "test_model(modelDropout, val_loader, loss_fn)"
   ]
  },
  {
   "cell_type": "markdown",
   "id": "f3eb4d31",
   "metadata": {},
   "source": [
    "Let's visualise the differences between the models:"
   ]
  },
  {
   "cell_type": "code",
   "execution_count": 15,
   "id": "1456f8d6",
   "metadata": {},
   "outputs": [
    {
     "data": {
      "image/png": "[encoded data removed]",
      "text/plain": [
       "<Figure size 640x480 with 1 Axes>"
      ]
     },
     "metadata": {},
     "output_type": "display_data"
    }
   ],
   "source": [
    "import matplotlib.pyplot as plt\n",
    "import numpy as np\n",
    "\n",
    "types = ['Train', 'Test']\n",
    "firstModelAcc = [99.94, 82.05]\n",
    "secondModelAcc = [91.92, 89.25]\n",
    "\n",
    "x = np.array([0, 1])\n",
    "width = 0.35\n",
    "\n",
    "x_train = x - width / 2\n",
    "x_test = x + width / 2\n",
    "\n",
    "fig, ax = plt.subplots(layout='constrained')\n",
    "\n",
    "train_bars = ax.bar(x_train[0], firstModelAcc[0], width, color='tab:blue', label='Train')\n",
    "test_bars = ax.bar(x_test[0], firstModelAcc[1], width, color='tab:orange', label='Test')\n",
    "\n",
    "train_bars2 = ax.bar(x_train[1], secondModelAcc[0], width, color='tab:blue')\n",
    "test_bars2 = ax.bar(x_test[1], secondModelAcc[1], width, color='tab:orange')\n",
    "\n",
    "ax.set_ylabel('Accuracy (%)')\n",
    "ax.set_title('Train and Test Accuracy for Each Model')\n",
    "ax.set_xticks(x)\n",
    "ax.set_xticklabels(['First Model', 'Second Model'])\n",
    "ax.set_ylim(0, 110)\n",
    "ax.legend()\n",
    "\n",
    "ax.bar_label(train_bars, padding=3, fmt='%.2f')\n",
    "ax.bar_label(test_bars, padding=3, fmt='%.2f')\n",
    "ax.bar_label(train_bars2, padding=3, fmt='%.2f')\n",
    "ax.bar_label(test_bars2, padding=3, fmt='%.2f')\n",
    "plt.show()"
   ]
  },
  {
   "cell_type": "code",
   "execution_count": null,
   "id": "901173cd",
   "metadata": {},
   "outputs": [
    {
     "name": "stderr",
     "output_type": "stream",
     "text": [
      "Clipping input data to the valid range for imshow with RGB data ([0..1] for floats or [0..255] for integers). Got range [-1.7708598..1.9635937].\n"
     ]
    },
    {
     "data": {
      "image/png": "[encoded data removed]",
      "text/plain": [
       "<Figure size 640x480 with 2 Axes>"
      ]
     },
     "metadata": {},
     "output_type": "display_data"
    }
   ],
   "source": [
    "transform=transforms.Compose([\n",
    "            transforms.ToTensor(),\n",
    "            transforms.Normalize(mean, std)])\n",
    "\n",
    "\n",
    "img, label = cifar10[93]\n",
    "img_t = transform(img)\n",
    "\n",
    "plt.subplot(1, 2, 1)\n",
    "plt.imshow(img)\n",
    "plt.title('Plane image')\n",
    "\n",
    "plt.subplot(1, 2, 2)\n",
    "plt.imshow(img_t.permute(1, 2, 0))\n",
    "plt.title('Plane image with transform')\n",
    "\n",
    "plt.show()"
   ]
  },
  {
   "cell_type": "markdown",
   "id": "04e4c9cc",
   "metadata": {},
   "source": [
    "Now let's see what our model predicts:"
   ]
  },
  {
   "cell_type": "code",
   "execution_count": 35,
   "id": "ad8e64d6",
   "metadata": {},
   "outputs": [
    {
     "data": {
      "text/plain": [
       "tensor([0])"
      ]
     },
     "execution_count": 35,
     "metadata": {},
     "output_type": "execute_result"
    }
   ],
   "source": [
    "output = modelDropout(img_t)\n",
    "_, predicted_label = torch.max(output, dim=1)\n",
    "predicted_label"
   ]
  },
  {
   "cell_type": "code",
   "execution_count": 37,
   "id": "f589c720",
   "metadata": {},
   "outputs": [
    {
     "data": {
      "text/plain": [
       "0"
      ]
     },
     "execution_count": 37,
     "metadata": {},
     "output_type": "execute_result"
    }
   ],
   "source": [
    "assert label == predicted_label\n",
    "label"
   ]
  },
  {
   "cell_type": "markdown",
   "id": "5421ad07",
   "metadata": {},
   "source": [
    "As we can see the prediction is right, in the image ther is a plane."
   ]
  }
 ],
 "metadata": {
  "kernelspec": {
   "display_name": "Python 3",
   "language": "python",
   "name": "python3"
  },
  "language_info": {
   "codemirror_mode": {
    "name": "ipython",
    "version": 3
   },
   "file_extension": ".py",
   "mimetype": "text/x-python",
   "name": "python",
   "nbconvert_exporter": "python",
   "pygments_lexer": "ipython3",
   "version": "3.9.0"
  }
 },
 "nbformat": 4,
 "nbformat_minor": 5
}
